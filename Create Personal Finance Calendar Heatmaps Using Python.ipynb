{
 "cells": [
  {
   "cell_type": "markdown",
   "id": "a82feb84",
   "metadata": {},
   "source": [
    "# Create calendar heatmaps of spending per year\n",
    "\n",
    "## Motivation \n",
    "\n",
    "One of my hobbies include analyzing personal finance metrics and finding trends in my personal spending data throughout the year. I use a custom budgeting spreadsheet on Google Sheets to track every expense on everyday of the year. This tool is to help me visualize my spending habits, how often I spend money, streaks of spending, and amount spent per day. \n",
    "\n",
    "## How to use\n",
    "\n",
    "I found calmap in a blog and wanted to try it out. The notebook takes in the excel file that I downloaded from GSheets, reads in the summary sheets using a fixed range, concatenate each month's dataframe, and create a sum column from the categories. This is then simply fed into calmap to create a heatmap."
   ]
  },
  {
   "cell_type": "code",
   "execution_count": 460,
   "id": "6ff7cba2",
   "metadata": {},
   "outputs": [],
   "source": [
    "import matplotlib.pyplot as plt\n",
    "import calmap \n",
    "import calplot \n",
    "import pandas as pd \n",
    "import numpy as np\n",
    "import os\n",
    "\n",
    "# print(calmap.__version__)\n",
    "# print(calplot.__version__)\n",
    "# print(pd.__version__)\n",
    "# import matplotlib\n",
    "# print(matplotlib.__version__)\n",
    "# print(np.__version__)"
   ]
  },
  {
   "cell_type": "markdown",
   "id": "259ca57c",
   "metadata": {},
   "source": [
    "calmap: 0.0.9  \n",
    "calplot: 0.1.7.5  \n",
    "pandas: 1.4.2  \n",
    "matplotlib: 3.5.1  \n",
    "numpy: 1.21.5  "
   ]
  },
  {
   "cell_type": "markdown",
   "id": "78f176b7",
   "metadata": {},
   "source": [
    "Sample calendar heatmap using random data. Data arg is a numpy series and indexed by a DatetimeIndex"
   ]
  },
  {
   "cell_type": "code",
   "execution_count": 461,
   "id": "7579c64c",
   "metadata": {},
   "outputs": [
    {
     "name": "stdout",
     "output_type": "stream",
     "text": [
      "(365,)\n",
      "<class 'pandas.core.series.Series'>\n",
      "DatetimeIndex: 365 entries, 2022-01-01 to 2022-12-31\n",
      "Freq: D\n",
      "Series name: None\n",
      "Non-Null Count  Dtype  \n",
      "--------------  -----  \n",
      "365 non-null    float64\n",
      "dtypes: float64(1)\n",
      "memory usage: 5.7 KB\n",
      "None\n"
     ]
    },
    {
     "data": {
      "text/plain": [
       "<AxesSubplot:>"
      ]
     },
     "execution_count": 461,
     "metadata": {},
     "output_type": "execute_result"
    },
    {
     "data": {
      "image/png": "[encoded data removed]",
      "text/plain": [
       "<Figure size 432x288 with 1 Axes>"
      ]
     },
     "metadata": {
      "needs_background": "light"
     },
     "output_type": "display_data"
    }
   ],
   "source": [
    "heatmap_series = pd.Series(data=np.random.rand(365), \n",
    "                          index=pd.date_range(start='1-1-22', end='12-31-22'))\n",
    "print(heatmap_series.shape)\n",
    "print(heatmap_series.info())\n",
    "heatmap_series.head()\n",
    "calmap.yearplot(data=heatmap_series)"
   ]
  },
  {
   "cell_type": "code",
   "execution_count": 462,
   "id": "ce2ca8dc",
   "metadata": {},
   "outputs": [],
   "source": [
    "from openpyxl import load_workbook\n",
    "\n",
    "def get_sheetnames_xlsx(filepath):\n",
    "    wb = load_workbook(filepath, read_only=True, keep_links=False)\n",
    "    return wb.sheetnames"
   ]
  },
  {
   "cell_type": "code",
   "execution_count": 463,
   "id": "58b3eb0c",
   "metadata": {},
   "outputs": [
    {
     "name": "stdout",
     "output_type": "stream",
     "text": [
      "['Jan_Sum', 'Feb_Sum', 'Mar_Sum', 'April_Sum', 'May_Sum', 'June_Sum', 'July_Sum', 'Aug_Sum', 'Sept_Sum', 'Oct_Sum', 'Nov_Sum', 'Dec_Sum']\n"
     ]
    }
   ],
   "source": [
    "file_source = r'/Users/brianha/Desktop/finances-calmap/2022 Finances.xlsx'\n",
    "sheets = get_sheetnames_xlsx(file_source)\n",
    "target_sheets = []\n",
    "for s in sheets:\n",
    "    if 'Sum' in s:\n",
    "        target_sheets.append(s)\n",
    "\n",
    "print(target_sheets)"
   ]
  },
  {
   "cell_type": "code",
   "execution_count": 464,
   "id": "4fd520a4",
   "metadata": {},
   "outputs": [
    {
     "name": "stdout",
     "output_type": "stream",
     "text": [
      "            groceries  dining out  fast food  shopping  coffee  gifts  trips  \\\n",
      "January                                                                        \n",
      "2022-01-01       0.00        0.00        0.0       0.0       0   0.00      0   \n",
      "2022-01-02      19.98        6.42        0.0       0.0       0 -42.02      0   \n",
      "2022-01-03       0.00        0.00        0.0       0.0       0   0.00      0   \n",
      "\n",
      "            misc  gas  bills  \n",
      "January                       \n",
      "2022-01-01   0.0  0.0   2.99  \n",
      "2022-01-02   0.0  0.0   0.00  \n",
      "2022-01-03   0.0  0.0   0.00  \n",
      "(31, 10)\n",
      "            groceries  dining out  fast food  shopping  coffee  gifts  trips  \\\n",
      "February                                                                       \n",
      "2022-02-01        0.0         0.0        0.0       0.0     0.0    0.0    0.0   \n",
      "2022-02-02        0.0         0.0        0.0       0.0     0.0    0.0    0.0   \n",
      "2022-02-03        0.0         0.0        0.0       0.0     0.0    0.0    0.0   \n",
      "\n",
      "            misc  gas  bills  \n",
      "February                      \n",
      "2022-02-01     0  0.0   2.99  \n",
      "2022-02-02     0  0.0   0.00  \n",
      "2022-02-03     0  0.0   0.00  \n",
      "(31, 10)\n",
      "            groceries  dining out  fast food  shopping  coffee  gifts  \\\n",
      "March                                                                   \n",
      "2022-03-01        0.0         0.0        0.0       0.0     0.0    0.0   \n",
      "2022-03-02        0.0         0.0        0.0       0.0     0.0    0.0   \n",
      "2022-03-03        0.0         0.0        0.0       0.0     0.0    0.0   \n",
      "\n",
      "              trips  misc  gas  bills  \n",
      "March                                  \n",
      "2022-03-01  111.235     0  0.0  80.97  \n",
      "2022-03-02    0.000     0  0.0   0.00  \n",
      "2022-03-03   29.165     0  0.0   0.00  \n",
      "(31, 10)\n",
      "            groceries  dining out  fast food  shopping  coffee  gifts  trips  \\\n",
      "April                                                                          \n",
      "2022-04-01       2.88        37.0       41.9      0.00    10.0    0.0    0.0   \n",
      "2022-04-02       0.00         0.0        0.0      0.00     0.0    0.0   13.0   \n",
      "2022-04-03       0.00         0.0        0.0     20.07     0.0    0.0    0.0   \n",
      "\n",
      "            misc   gas  bills  \n",
      "April                          \n",
      "2022-04-01  50.0   0.0    0.0  \n",
      "2022-04-02   0.0  47.0    0.0  \n",
      "2022-04-03   0.0   0.0    0.0  \n",
      "(31, 10)\n",
      "            groceries  dining out  fast food  shopping  coffee  gifts  trips  \\\n",
      "May                                                                            \n",
      "2022-05-01        0.0         0.0       4.30       9.3       0    0.0    0.0   \n",
      "2022-05-02        0.0         0.0       0.00       0.0       0    0.0    0.0   \n",
      "2022-05-03        0.0         0.0      11.77       0.0       0    0.0    0.0   \n",
      "\n",
      "            misc    gas  bills  \n",
      "May                             \n",
      "2022-05-01   0.0  83.26  32.25  \n",
      "2022-05-02   0.0   0.00   0.00  \n",
      "2022-05-03   0.0   0.00   0.00  \n",
      "(31, 10)\n",
      "            groceries  dining out  fast food  shopping  coffee  gifts  trips  \\\n",
      "June                                                                           \n",
      "2022-06-01        0.0         0.0       9.50      2.43     0.0   0.00   0.00   \n",
      "2022-06-02        0.0         0.0      12.83    -57.82     0.0   0.00   0.00   \n",
      "2022-06-03        0.0         0.0       0.00      3.98     0.0  30.43   1.48   \n",
      "\n",
      "            misc   gas  bills  \n",
      "June                           \n",
      "2022-06-01   0.0  12.3 -12.75  \n",
      "2022-06-02   0.0   0.0   0.00  \n",
      "2022-06-03   0.0   0.0   0.00  \n",
      "(31, 10)\n",
      "            groceries  dining out  fast food  shopping  coffee  gifts   trips  \\\n",
      "July                                                                            \n",
      "2022-07-01        0.0         0.0      12.49       0.0   10.34      0  133.89   \n",
      "2022-07-02        0.0         0.0       0.00       7.0    0.00      0    0.00   \n",
      "2022-07-03       34.7         0.0       0.00      34.0   45.00     16   20.00   \n",
      "\n",
      "            misc  gas  bills  \n",
      "July                          \n",
      "2022-07-01   0.0  0.0    0.0  \n",
      "2022-07-02   0.0  0.0    0.0  \n",
      "2022-07-03   0.0  0.0    0.0  \n",
      "(31, 10)\n",
      "            groceries  dining out  fast food  shopping  coffee  gifts  trips  \\\n",
      "August                                                                         \n",
      "2022-08-01        0.0         0.0       0.00       0.0     0.0    0.0    0.0   \n",
      "2022-08-02        0.0         0.0      26.14       0.0     0.0    0.0    0.0   \n",
      "2022-08-03        0.0         0.0       0.00       0.0     0.0    0.0    0.0   \n",
      "\n",
      "             misc  gas  bills  \n",
      "August                         \n",
      "2022-08-01  159.0  0.0  17.25  \n",
      "2022-08-02    0.0  0.0   0.00  \n",
      "2022-08-03    0.0  0.0   0.00  \n",
      "(31, 10)\n",
      "            groceries  dining out  fast food  shopping  coffee   gifts  \\\n",
      "September                                                                \n",
      "2022-09-01        0.0         0.0        0.0      0.00     0.0  404.09   \n",
      "2022-09-02        0.0         0.0        0.0    143.85     0.0  108.55   \n",
      "2022-09-03        0.0         0.0        0.0      0.00     0.0    0.00   \n",
      "\n",
      "             trips  misc  gas   bills  \n",
      "September                              \n",
      "2022-09-01  71.320   0.0  0.0    65.5  \n",
      "2022-09-02  60.890   0.0  0.0  1851.9  \n",
      "2022-09-03  91.055   0.0  0.0     0.0  \n",
      "(31, 10)\n",
      "            groceries  dining out  fast food  shopping  coffee   gifts  trips  \\\n",
      "October                                                                         \n",
      "2022-10-01        0.0         0.0       5.65       0.0     0.0  100.00    0.0   \n",
      "2022-10-02        0.0         0.0       0.00       0.0     0.0   28.03    0.0   \n",
      "2022-10-03        0.0         0.0       5.65       0.0     5.0    0.00    0.0   \n",
      "\n",
      "              misc  gas   bills  \n",
      "October                          \n",
      "2022-10-01    0.00  0.0   0.000  \n",
      "2022-10-02  120.00  0.0   0.000  \n",
      "2022-10-03    2.12  0.0  27.495  \n",
      "(31, 10)\n",
      "            groceries  dining out  fast food  shopping  coffee  gifts  trips  \\\n",
      "November                                                                       \n",
      "2022-11-01        0.0        20.0        3.8       0.0    0.00    0.0      0   \n",
      "2022-11-02        0.0         0.0        0.0       0.0    0.00    0.0      0   \n",
      "2022-11-03        0.0         0.0        0.0       0.0    3.23    0.0      0   \n",
      "\n",
      "            misc  gas     bills  \n",
      "November                         \n",
      "2022-11-01   0.0  0.0  1687.344  \n",
      "2022-11-02  25.0  0.0     0.000  \n",
      "2022-11-03   0.0  0.0    27.495  \n",
      "(31, 10)\n",
      "            groceries  dining out  fast food  shopping  coffee  gifts  trips  \\\n",
      "December                                                                       \n",
      "2022-12-01        0.0         0.0        0.0       0.0    0.00    0.0      0   \n",
      "2022-12-02        0.0         0.0        0.0       0.0    4.95    0.0      0   \n",
      "2022-12-03        0.0         0.0        7.6     134.1   12.58    0.0      0   \n",
      "\n",
      "            misc  gas     bills  \n",
      "December                         \n",
      "2022-12-01   0.0  0.0  1717.079  \n",
      "2022-12-02   0.0  0.0     0.000  \n",
      "2022-12-03   0.0  0.0     0.000  \n",
      "(31, 10)\n"
     ]
    }
   ],
   "source": [
    "monthly_df = []\n",
    "# filename = os.path.basename(file_source)\n",
    "# print(filename)\n",
    "\n",
    "for i in range(len(target_sheets)):\n",
    "    month = target_sheets[i]\n",
    "    tdf = pd.read_excel(file_source, sheet_name=month, \n",
    "                   skiprows=4, usecols='B:L', nrows=31, \n",
    "                  parse_dates=[0], index_col=[0])\n",
    "    print(tdf.head(3))\n",
    "#     print(tdf.describe())\n",
    "    print(tdf.shape)\n",
    "    monthly_df.append(tdf)"
   ]
  },
  {
   "cell_type": "code",
   "execution_count": 465,
   "id": "a4c5dd8c",
   "metadata": {
    "scrolled": true
   },
   "outputs": [
    {
     "name": "stdout",
     "output_type": "stream",
     "text": [
      "(372, 10)\n",
      "(365, 10)\n"
     ]
    },
    {
     "data": {
      "text/html": [
       "<div>\n",
       "<style scoped>\n",
       "    .dataframe tbody tr th:only-of-type {\n",
       "        vertical-align: middle;\n",
       "    }\n",
       "\n",
       "    .dataframe tbody tr th {\n",
       "        vertical-align: top;\n",
       "    }\n",
       "\n",
       "    .dataframe thead th {\n",
       "        text-align: right;\n",
       "    }\n",
       "</style>\n",
       "<table border=\"1\" class=\"dataframe\">\n",
       "  <thead>\n",
       "    <tr style=\"text-align: right;\">\n",
       "      <th></th>\n",
       "      <th>count</th>\n",
       "      <th>mean</th>\n",
       "      <th>std</th>\n",
       "      <th>min</th>\n",
       "      <th>25%</th>\n",
       "      <th>50%</th>\n",
       "      <th>75%</th>\n",
       "      <th>max</th>\n",
       "    </tr>\n",
       "  </thead>\n",
       "  <tbody>\n",
       "    <tr>\n",
       "      <th>1</th>\n",
       "      <td>31.0</td>\n",
       "      <td>75.358387</td>\n",
       "      <td>163.729272</td>\n",
       "      <td>0.0</td>\n",
       "      <td>0.0000</td>\n",
       "      <td>25.000</td>\n",
       "      <td>60.33000</td>\n",
       "      <td>750.000</td>\n",
       "    </tr>\n",
       "    <tr>\n",
       "      <th>2</th>\n",
       "      <td>28.0</td>\n",
       "      <td>67.160536</td>\n",
       "      <td>99.078114</td>\n",
       "      <td>0.0</td>\n",
       "      <td>0.7500</td>\n",
       "      <td>30.930</td>\n",
       "      <td>95.54625</td>\n",
       "      <td>469.200</td>\n",
       "    </tr>\n",
       "    <tr>\n",
       "      <th>3</th>\n",
       "      <td>31.0</td>\n",
       "      <td>76.862903</td>\n",
       "      <td>99.645468</td>\n",
       "      <td>0.0</td>\n",
       "      <td>14.4200</td>\n",
       "      <td>44.970</td>\n",
       "      <td>88.42000</td>\n",
       "      <td>409.780</td>\n",
       "    </tr>\n",
       "    <tr>\n",
       "      <th>4</th>\n",
       "      <td>30.0</td>\n",
       "      <td>102.266333</td>\n",
       "      <td>158.242388</td>\n",
       "      <td>0.0</td>\n",
       "      <td>0.0000</td>\n",
       "      <td>30.915</td>\n",
       "      <td>130.31750</td>\n",
       "      <td>650.040</td>\n",
       "    </tr>\n",
       "    <tr>\n",
       "      <th>5</th>\n",
       "      <td>31.0</td>\n",
       "      <td>97.993226</td>\n",
       "      <td>123.360916</td>\n",
       "      <td>0.0</td>\n",
       "      <td>1.5350</td>\n",
       "      <td>59.480</td>\n",
       "      <td>128.97500</td>\n",
       "      <td>461.750</td>\n",
       "    </tr>\n",
       "    <tr>\n",
       "      <th>6</th>\n",
       "      <td>30.0</td>\n",
       "      <td>129.108167</td>\n",
       "      <td>235.525066</td>\n",
       "      <td>0.0</td>\n",
       "      <td>4.6700</td>\n",
       "      <td>49.975</td>\n",
       "      <td>138.80000</td>\n",
       "      <td>1236.560</td>\n",
       "    </tr>\n",
       "    <tr>\n",
       "      <th>7</th>\n",
       "      <td>31.0</td>\n",
       "      <td>75.797419</td>\n",
       "      <td>76.868194</td>\n",
       "      <td>0.0</td>\n",
       "      <td>12.4250</td>\n",
       "      <td>50.720</td>\n",
       "      <td>124.85000</td>\n",
       "      <td>304.810</td>\n",
       "    </tr>\n",
       "    <tr>\n",
       "      <th>8</th>\n",
       "      <td>31.0</td>\n",
       "      <td>90.874516</td>\n",
       "      <td>105.469029</td>\n",
       "      <td>0.0</td>\n",
       "      <td>11.8975</td>\n",
       "      <td>48.710</td>\n",
       "      <td>149.02500</td>\n",
       "      <td>456.590</td>\n",
       "    </tr>\n",
       "    <tr>\n",
       "      <th>9</th>\n",
       "      <td>30.0</td>\n",
       "      <td>449.105000</td>\n",
       "      <td>941.014273</td>\n",
       "      <td>0.0</td>\n",
       "      <td>32.3450</td>\n",
       "      <td>106.045</td>\n",
       "      <td>232.66375</td>\n",
       "      <td>4642.450</td>\n",
       "    </tr>\n",
       "    <tr>\n",
       "      <th>10</th>\n",
       "      <td>31.0</td>\n",
       "      <td>104.538710</td>\n",
       "      <td>324.097743</td>\n",
       "      <td>0.0</td>\n",
       "      <td>7.4750</td>\n",
       "      <td>36.110</td>\n",
       "      <td>63.25500</td>\n",
       "      <td>1822.265</td>\n",
       "    </tr>\n",
       "    <tr>\n",
       "      <th>11</th>\n",
       "      <td>30.0</td>\n",
       "      <td>97.628633</td>\n",
       "      <td>311.806423</td>\n",
       "      <td>0.0</td>\n",
       "      <td>0.2300</td>\n",
       "      <td>10.605</td>\n",
       "      <td>55.06250</td>\n",
       "      <td>1711.144</td>\n",
       "    </tr>\n",
       "    <tr>\n",
       "      <th>12</th>\n",
       "      <td>31.0</td>\n",
       "      <td>255.705774</td>\n",
       "      <td>892.877096</td>\n",
       "      <td>0.0</td>\n",
       "      <td>4.9700</td>\n",
       "      <td>25.080</td>\n",
       "      <td>113.52000</td>\n",
       "      <td>4778.470</td>\n",
       "    </tr>\n",
       "  </tbody>\n",
       "</table>\n",
       "</div>"
      ],
      "text/plain": [
       "    count        mean         std  min      25%      50%        75%       max\n",
       "1    31.0   75.358387  163.729272  0.0   0.0000   25.000   60.33000   750.000\n",
       "2    28.0   67.160536   99.078114  0.0   0.7500   30.930   95.54625   469.200\n",
       "3    31.0   76.862903   99.645468  0.0  14.4200   44.970   88.42000   409.780\n",
       "4    30.0  102.266333  158.242388  0.0   0.0000   30.915  130.31750   650.040\n",
       "5    31.0   97.993226  123.360916  0.0   1.5350   59.480  128.97500   461.750\n",
       "6    30.0  129.108167  235.525066  0.0   4.6700   49.975  138.80000  1236.560\n",
       "7    31.0   75.797419   76.868194  0.0  12.4250   50.720  124.85000   304.810\n",
       "8    31.0   90.874516  105.469029  0.0  11.8975   48.710  149.02500   456.590\n",
       "9    30.0  449.105000  941.014273  0.0  32.3450  106.045  232.66375  4642.450\n",
       "10   31.0  104.538710  324.097743  0.0   7.4750   36.110   63.25500  1822.265\n",
       "11   30.0   97.628633  311.806423  0.0   0.2300   10.605   55.06250  1711.144\n",
       "12   31.0  255.705774  892.877096  0.0   4.9700   25.080  113.52000  4778.470"
      ]
     },
     "execution_count": 465,
     "metadata": {},
     "output_type": "execute_result"
    }
   ],
   "source": [
    "finaldf = pd.concat(monthly_df)\n",
    "print(finaldf.shape)\n",
    "\n",
    "# drop rows that have empty dates from the excel summary sheets, now (365, 10) which is correct\n",
    "finaldf = finaldf[finaldf.index.notnull()]\n",
    "print(finaldf.shape)\n",
    "\n",
    "# create a sum column to get total spent per day\n",
    "finaldf['sum'] = finaldf.iloc[:, :].sum(axis=1)\n",
    "\n",
    "# set sums to 0 if negative value exists (returns/refunds/etc.)\n",
    "finaldf['sum'] = finaldf['sum'].apply(lambda x: 0 if x < 0 else x)\n",
    "# finaldf\n",
    "# finaldf.to_csv(r'/Users/brianha/Desktop/finances-calmap/finaldf.csv')\n",
    "\n",
    "# describe spending by month\n",
    "group = finaldf['sum'].groupby(finaldf.index.month)\n",
    "group.describe()"
   ]
  },
  {
   "cell_type": "code",
   "execution_count": 466,
   "id": "b223f597",
   "metadata": {},
   "outputs": [
    {
     "name": "stdout",
     "output_type": "stream",
     "text": [
      "Unique indices:  365\n",
      "index type == pd.DatetimeIndex? True\n"
     ]
    }
   ],
   "source": [
    "# ensure all days are there \n",
    "print('Unique indices: ', len(set(finaldf.index)))\n",
    "print('index type == pd.DatetimeIndex?', isinstance(finaldf.index, pd.DatetimeIndex))"
   ]
  },
  {
   "cell_type": "code",
   "execution_count": 467,
   "id": "2c05562f",
   "metadata": {},
   "outputs": [
    {
     "data": {
      "text/plain": [
       "Text(0.5, 1.0, 'Calendar Heatmap of Spending in 2022')"
      ]
     },
     "execution_count": 467,
     "metadata": {},
     "output_type": "execute_result"
    },
    {
     "data": {
      "image/png": "[encoded data removed]",
      "text/plain": [
       "<Figure size 1152x576 with 1 Axes>"
      ]
     },
     "metadata": {
      "needs_background": "light"
     },
     "output_type": "display_data"
    }
   ],
   "source": [
    "# idx = pd.date_range('01-01-2022', '12-31-2022')\n",
    "\n",
    "# default figure \n",
    "plt.figure(figsize=(16,8))\n",
    "p = calmap.yearplot(data=finaldf['sum'])\n",
    "p.set_title('Calendar Heatmap of Spending in 2022')\n",
    "# calmap.yearplot(data=finaldf['sum'], vmin=0, vmax=1)\n",
    "# calmap.yearplot(finaldf['sum'], monthticks=3, daylabels='MTWTFSS', dayticks=[0, 1, 2, 4, 6])\n",
    "# calplot.calplot(data=jan_df['sum'], cmap='coolwarm')\n"
   ]
  },
  {
   "cell_type": "code",
   "execution_count": 468,
   "id": "b9c12f9b",
   "metadata": {},
   "outputs": [
    {
     "data": {
      "image/png": "[encoded data removed]",
      "text/plain": [
       "<Figure size 1152x576 with 1 Axes>"
      ]
     },
     "metadata": {
      "needs_background": "light"
     },
     "output_type": "display_data"
    },
    {
     "data": {
      "text/html": [
       "<div>\n",
       "<style scoped>\n",
       "    .dataframe tbody tr th:only-of-type {\n",
       "        vertical-align: middle;\n",
       "    }\n",
       "\n",
       "    .dataframe tbody tr th {\n",
       "        vertical-align: top;\n",
       "    }\n",
       "\n",
       "    .dataframe thead th {\n",
       "        text-align: right;\n",
       "    }\n",
       "</style>\n",
       "<table border=\"1\" class=\"dataframe\">\n",
       "  <thead>\n",
       "    <tr style=\"text-align: right;\">\n",
       "      <th></th>\n",
       "      <th>days_spent</th>\n",
       "      <th>total_days</th>\n",
       "      <th>pct_spend</th>\n",
       "    </tr>\n",
       "  </thead>\n",
       "  <tbody>\n",
       "    <tr>\n",
       "      <th>1</th>\n",
       "      <td>18</td>\n",
       "      <td>31</td>\n",
       "      <td>0.58</td>\n",
       "    </tr>\n",
       "    <tr>\n",
       "      <th>2</th>\n",
       "      <td>21</td>\n",
       "      <td>28</td>\n",
       "      <td>0.75</td>\n",
       "    </tr>\n",
       "    <tr>\n",
       "      <th>3</th>\n",
       "      <td>25</td>\n",
       "      <td>31</td>\n",
       "      <td>0.81</td>\n",
       "    </tr>\n",
       "    <tr>\n",
       "      <th>4</th>\n",
       "      <td>21</td>\n",
       "      <td>30</td>\n",
       "      <td>0.70</td>\n",
       "    </tr>\n",
       "    <tr>\n",
       "      <th>5</th>\n",
       "      <td>24</td>\n",
       "      <td>31</td>\n",
       "      <td>0.77</td>\n",
       "    </tr>\n",
       "    <tr>\n",
       "      <th>6</th>\n",
       "      <td>23</td>\n",
       "      <td>30</td>\n",
       "      <td>0.77</td>\n",
       "    </tr>\n",
       "    <tr>\n",
       "      <th>7</th>\n",
       "      <td>27</td>\n",
       "      <td>31</td>\n",
       "      <td>0.87</td>\n",
       "    </tr>\n",
       "    <tr>\n",
       "      <th>8</th>\n",
       "      <td>28</td>\n",
       "      <td>31</td>\n",
       "      <td>0.90</td>\n",
       "    </tr>\n",
       "    <tr>\n",
       "      <th>9</th>\n",
       "      <td>28</td>\n",
       "      <td>30</td>\n",
       "      <td>0.93</td>\n",
       "    </tr>\n",
       "    <tr>\n",
       "      <th>10</th>\n",
       "      <td>28</td>\n",
       "      <td>31</td>\n",
       "      <td>0.90</td>\n",
       "    </tr>\n",
       "    <tr>\n",
       "      <th>11</th>\n",
       "      <td>22</td>\n",
       "      <td>30</td>\n",
       "      <td>0.73</td>\n",
       "    </tr>\n",
       "    <tr>\n",
       "      <th>12</th>\n",
       "      <td>26</td>\n",
       "      <td>31</td>\n",
       "      <td>0.84</td>\n",
       "    </tr>\n",
       "  </tbody>\n",
       "</table>\n",
       "</div>"
      ],
      "text/plain": [
       "    days_spent  total_days  pct_spend\n",
       "1           18          31       0.58\n",
       "2           21          28       0.75\n",
       "3           25          31       0.81\n",
       "4           21          30       0.70\n",
       "5           24          31       0.77\n",
       "6           23          30       0.77\n",
       "7           27          31       0.87\n",
       "8           28          31       0.90\n",
       "9           28          30       0.93\n",
       "10          28          31       0.90\n",
       "11          22          30       0.73\n",
       "12          26          31       0.84"
      ]
     },
     "execution_count": 468,
     "metadata": {},
     "output_type": "execute_result"
    }
   ],
   "source": [
    "# binary figure of spend or no spend per day \n",
    "binarydf = finaldf['sum'].apply(lambda x: 0 if x == 0 else 1)\n",
    "plt.figure(figsize=(16,8))\n",
    "p = calmap.yearplot(data=binarydf)\n",
    "p.set_title('Binary Calendar Heatmap of Spending in 2022')\n",
    "plt.show()\n",
    "\n",
    "gp = binarydf.groupby(binarydf.index.month)\n",
    "gp_df = pd.DataFrame({'days_spent':gp.sum(), 'total_days':gp.count(), 'pct_spend': round(gp.sum()/gp.count(), 2)})\n",
    "gp_df"
   ]
  },
  {
   "cell_type": "code",
   "execution_count": 469,
   "id": "87a66ded",
   "metadata": {},
   "outputs": [
    {
     "data": {
      "text/plain": [
       "Text(0.5, 1.0, 'Calendar Heatmap of Dollars Spent in 2022 [0-250]')"
      ]
     },
     "execution_count": 469,
     "metadata": {},
     "output_type": "execute_result"
    },
    {
     "data": {
      "image/png": "[encoded data removed]",
      "text/plain": [
       "<Figure size 1152x576 with 1 Axes>"
      ]
     },
     "metadata": {
      "needs_background": "light"
     },
     "output_type": "display_data"
    }
   ],
   "source": [
    "# figure showing heatmap of amount spent with a range of $0 - $250 per day.\n",
    "\n",
    "plt.figure(figsize=(16,8))\n",
    "p = calmap.yearplot(data=finaldf['sum'], vmin=0, vmax=250)\n",
    "p.set_title('Calendar Heatmap of Dollars Spent in 2022 [0-250]')\n"
   ]
  },
  {
   "cell_type": "code",
   "execution_count": 500,
   "id": "76afdc57",
   "metadata": {},
   "outputs": [
    {
     "data": {
      "text/plain": [
       "Text(0.5, 1.0, 'Calendar Heatmap of Dollars Spent in 2022 [0-500]')"
      ]
     },
     "execution_count": 500,
     "metadata": {},
     "output_type": "execute_result"
    },
    {
     "data": {
      "image/png": "[encoded data removed]",
      "text/plain": [
       "<Figure size 1152x576 with 1 Axes>"
      ]
     },
     "metadata": {
      "needs_background": "light"
     },
     "output_type": "display_data"
    }
   ],
   "source": [
    "# figure showing heatmap of amount spent with a range of $0 - $500 per day.\n",
    "\n",
    "plt.figure(figsize=(16,8))\n",
    "p = calmap.yearplot(data=finaldf['sum'], vmin=0, vmax=500)\n",
    "p.set_title('Calendar Heatmap of Dollars Spent in 2022 [0-500]')\n",
    "# print(np.random.random((20, 20)))\n",
    "# print(finaldf['sum'].to_numpy())\n"
   ]
  },
  {
   "cell_type": "code",
   "execution_count": 517,
   "id": "adc2673f",
   "metadata": {},
   "outputs": [
    {
     "data": {
      "image/png": "[encoded data removed]",
      "text/plain": [
       "<Figure size 900x122.4 with 2 Axes>"
      ]
     },
     "metadata": {
      "needs_background": "light"
     },
     "output_type": "display_data"
    }
   ],
   "source": [
    "# figure showing heatmap of amount spent with a range of $0 - $1000 per day.\n",
    "# plt.figure(figsize=(16,8))\n",
    "\n",
    "p = calplot.calplot(finaldf['sum'], suptitle='Calendar Heatmap of Dollars Spent in 2022 [0-100]', \n",
    "                linewidth=0, colorbar=True,\n",
    "#                 yearlabel_kws={'color': 'black'},\n",
    "#                 textformat='{:.0f}', textfiller='-', \n",
    "                cmap='Reds',vmin=0, vmax=1000) #, figsize=(16, 8)) #distorted \n"
   ]
  }
 ],
 "metadata": {
  "kernelspec": {
   "display_name": "Python 3 (ipykernel)",
   "language": "python",
   "name": "python3"
  },
  "language_info": {
   "codemirror_mode": {
    "name": "ipython",
    "version": 3
   },
   "file_extension": ".py",
   "mimetype": "text/x-python",
   "name": "python",
   "nbconvert_exporter": "python",
   "pygments_lexer": "ipython3",
   "version": "3.9.12"
  }
 },
 "nbformat": 4,
 "nbformat_minor": 5
}
